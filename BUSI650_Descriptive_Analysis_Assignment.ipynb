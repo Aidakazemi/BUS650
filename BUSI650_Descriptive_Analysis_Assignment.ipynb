{
  "nbformat": 4,
  "nbformat_minor": 0,
  "metadata": {
    "colab": {
      "provenance": [],
      "authorship_tag": "ABX9TyMuQ17kt/rBr7ftTz58iv33",
      "include_colab_link": true
    },
    "kernelspec": {
      "name": "python3",
      "display_name": "Python 3"
    },
    "language_info": {
      "name": "python"
    }
  },
  "cells": [
    {
      "cell_type": "markdown",
      "metadata": {
        "id": "view-in-github",
        "colab_type": "text"
      },
      "source": [
        "<a href=\"https://colab.research.google.com/github/Aidakazemi/BUS650/blob/Assignment/BUSI650_Descriptive_Analysis_Assignment.ipynb\" target=\"_parent\"><img src=\"https://colab.research.google.com/assets/colab-badge.svg\" alt=\"Open In Colab\"/></a>"
      ]
    },
    {
      "cell_type": "markdown",
      "source": [
        "# 🧮 Descriptive Analysis — Individual Assignment (Week 3)\n",
        "\n",
        "**Course:** BUS 650 — Business Analytics  \n",
        "**Submission:** One Colab notebook (`.ipynb`) only  \n",
        "**Rubric:** See Course Overview & Syllabus → Rubrics  \n",
        "**Support tool:** [BUSI650 Helper GPT — Dataset Finder & Descriptive Analysis](https://chatgpt.com/g/g-68e750d6c8a88191bcc36422f4d40ce2-busi650-dataset-finder-descriptive-analysis)\n",
        "\n",
        "---\n",
        "\n",
        "Use the **BUSI650 Helper GPT** that I created (link above) to help you find a small, beginner-friendly dataset in your area of interest — HR, Marketing, Accounting/Finance, or Policy/Law.\n",
        "\n",
        "To begin, type this in the Helper GPT:\n",
        "\n",
        "> I need your help for dataset finding\n",
        "\n",
        "It will ask you a few short questions and provide:\n",
        "- Dataset suggestions with links  \n",
        "- A short description of each dataset  \n",
        "- A direct CSV file you can use in Google Colab  \n",
        "\n",
        "You’ll use this dataset to perform a **simple descriptive analysis** and write plain-English answers about what you find.\n",
        "\n",
        "---\n",
        "\n",
        "## 🎯 Your Task\n",
        "\n",
        "You will:\n",
        "1. Choose one small dataset (CSV format).  \n",
        "2. Open Google Colab and create one notebook.  \n",
        "3. Run your analysis step-by-step (we’ll guide you below).  \n",
        "4. Use plain English to describe what the data shows.  \n",
        "5. (Optional) Use the Helper GPT for guidance and record your usage in an **Appendix**.\n",
        "\n",
        "---\n",
        "\n",
        "\n",
        "## 🧭 Part A — Set Up Your Colab Notebook\n",
        "\n",
        "### Step 1: Open Colab\n",
        "1. Go to [https://colab.research.google.com](https://colab.research.google.com)\n",
        "2. Sign in using your Google account.\n",
        "3. Click **File → New notebook**\n",
        "\n",
        "### Step 2: Rename Your File\n",
        "Click the title (top-left) and rename it:\n",
        "Lastname_Firstname_DescriptiveAnalysis.ipynb\n",
        "\n",
        "\n",
        "### Step 3: Add Your Header\n",
        "At the very top, create a **Text cell** and paste this:\n",
        "```markdown\n",
        "# BUS 650 — Week 3 Descriptive Analysis\n",
        "**Name:** Your Name  \n",
        "**Student ID:** 12345678  \n",
        "**Dataset chosen:** (Name + Link)  \n",
        "**Date:** YYYY-MM-DD  \n",
        "**AI usage:** (Yes/No)  \n",
        "If Yes → see Appendix (include your prompts + what you changed)\n",
        "\n",
        "\n",
        "## PART B — Minimal Setup Code\n",
        "\n",
        "Add a Code cell below your header and copy this:"
      ],
      "metadata": {
        "id": "tZFUkTQ7oE2I"
      }
    },
    {
      "cell_type": "code",
      "source": [
        "# Step 1: Import three basic libraries for analysis.\n",
        "# - pandas: helps you work with tables of data\n",
        "# - numpy: helps with calculations\n",
        "# - matplotlib: helps you make charts\n",
        "\n",
        "import pandas as pd\n",
        "import numpy as np\n",
        "import matplotlib.pyplot as plt\n",
        "\n",
        "# Step 2: Check that the libraries are working and see their versions\n",
        "print(\"Pandas version:\", pd.__version__)\n",
        "print(\"NumPy version:\", np.__version__)\n",
        "\n",
        "\n",
        "#Explanation: This code simply loads the tools you’ll need — no changes required. You’ll see version numbers appear below the cell when you run it."
      ],
      "metadata": {
        "id": "Tks4DJpBoYvz"
      },
      "execution_count": null,
      "outputs": []
    },
    {
      "cell_type": "markdown",
      "source": [
        "💾 Save often! Colab autosaves, but also press Ctrl/Cmd + S\n",
        "\n",
        "\n",
        "## Part C — Get a Dataset\n",
        "\n",
        "Pick one dataset area (HR, Marketing, Finance, Policy/Law).\n",
        "Ask the Helper GPT for a beginner-friendly CSV with a direct link.\n",
        "\n",
        "Examples:\n",
        "\n",
        "HR: “Find a simple HR absenteeism dataset (CSV).”\n",
        "\n",
        "Marketing: “Find a small marketing campaign dataset.”\n",
        "\n",
        "Finance: “Find a tidy transactions dataset with numeric and categorical columns.”\n",
        "\n",
        "Law: “Find a small public policy or crime dataset (CSV).”\n",
        "\n",
        "✅ You must have a direct CSV link or upload a local CSV file.\n",
        "\n",
        "\n",
        "## Part C — Load Your Data\n",
        "\n",
        "Option 1 — Load from a Web Link (recommended)\n",
        "\n",
        "If your dataset is hosted online (e.g., from Kaggle, GitHub, or data.gov):"
      ],
      "metadata": {
        "id": "bitzrlhhodGz"
      }
    },
    {
      "cell_type": "code",
      "source": [
        "# Replace the text inside the quotes with your dataset's direct CSV link\n",
        "url = \"PASTE_YOUR_CSV_LINK_HERE\"\n",
        "\n",
        "# Load the data into a pandas \"DataFrame\" (like a spreadsheet)\n",
        "df = pd.read_csv(url)\n",
        "\n",
        "# Show the first 5 rows of the data\n",
        "df.head()\n"
      ],
      "metadata": {
        "id": "kFdXqEFuowfU"
      },
      "execution_count": null,
      "outputs": []
    },
    {
      "cell_type": "markdown",
      "source": [
        "Option 2 — Upload a Local CSV File\n",
        "\n",
        "If you downloaded a dataset to your computer:"
      ],
      "metadata": {
        "id": "WrJe4dInozTy"
      }
    },
    {
      "cell_type": "code",
      "source": [
        "# Upload the CSV file from your computer\n",
        "from google.colab import files\n",
        "uploaded = files.upload()  # Choose your CSV file\n",
        "\n",
        "# Get the filename and load it into pandas\n",
        "filename = list(uploaded.keys())[0]\n",
        "df = pd.read_csv(filename)\n",
        "\n",
        "# Show the first 5 rows\n",
        "df.head()\n"
      ],
      "metadata": {
        "id": "Gt2xfTX9oxH_"
      },
      "execution_count": null,
      "outputs": []
    },
    {
      "cell_type": "markdown",
      "source": [
        "If the dataset doesn’t load correctly, ask the Helper GPT:\n",
        "\n",
        "“This dataset isn’t loading — how do I fix the separator or text encoding?”"
      ],
      "metadata": {
        "id": "SBj7kkdPo3Gh"
      }
    },
    {
      "cell_type": "markdown",
      "source": [
        "## Part D — Understand Your Data\n",
        "\n",
        "Now let’s learn what your dataset looks like."
      ],
      "metadata": {
        "id": "6qjS3jkLo6iI"
      }
    },
    {
      "cell_type": "code",
      "source": [
        "# Check the number of rows and columns\n",
        "print(\"Shape (rows, columns):\", df.shape)\n",
        "\n",
        "# Show the first 10 rows\n",
        "display(df.head(10))\n",
        "\n",
        "# Show the column names and their data types\n",
        "print(\"\\nColumn names:\", list(df.columns))\n",
        "print(\"\\nData types:\\n\", df.dtypes)\n",
        "\n",
        "# Quick info summary (non-empty values, data types)\n",
        "df.info()\n"
      ],
      "metadata": {
        "id": "qVvX2K6Go9Rn"
      },
      "execution_count": null,
      "outputs": []
    },
    {
      "cell_type": "markdown",
      "source": [
        "Write in a Text Cell:\n",
        "\n",
        "What does one row represent (e.g., one employee, one sale, one crime record)?\n",
        "\n",
        "List:\n",
        "\n",
        "3–5 categorical variables (text or labels)\n",
        "\n",
        "3–5 numeric variables (numbers)\n",
        "\n",
        "Are there any “ID” or name columns you should ignore or drop?\n",
        "\n",
        "If you see a strange column like Unnamed: 0, remove it:"
      ],
      "metadata": {
        "id": "Tvl3ZGs5o_nj"
      }
    },
    {
      "cell_type": "code",
      "source": [
        "df = df.drop(columns=['Unnamed: 0'], errors='ignore')\n"
      ],
      "metadata": {
        "id": "Ysl7kdwbpBwj"
      },
      "execution_count": null,
      "outputs": []
    },
    {
      "cell_type": "markdown",
      "source": [
        "## Part E — Light Cleaning\n",
        "\n",
        "This step just makes your data easier to work with"
      ],
      "metadata": {
        "id": "Lb8Obd8KpEBz"
      }
    },
    {
      "cell_type": "code",
      "source": [
        "# Remove duplicate rows (if any)\n",
        "df = df.drop_duplicates()\n",
        "\n",
        "# Simplify column names: lowercase and replace spaces with underscores\n",
        "df.columns = df.columns.str.strip().str.lower().str.replace(\" \", \"_\")\n",
        "\n",
        "# Change small text columns into \"category\" type for easier summaries\n",
        "for col in df.select_dtypes(include=\"object\"):\n",
        "    if df[col].nunique() <= 30:\n",
        "        df[col] = df[col].astype(\"category\")\n",
        "\n",
        "# Show the first 20 column types\n",
        "df.dtypes.head(20)\n"
      ],
      "metadata": {
        "id": "HykBtsxFpGJi"
      },
      "execution_count": null,
      "outputs": []
    },
    {
      "cell_type": "markdown",
      "source": [
        "## PART F — Descriptive Statistics (Numbers)"
      ],
      "metadata": {
        "id": "ogQ6x2MKrg0r"
      }
    },
    {
      "cell_type": "code",
      "source": [
        "# Find which columns have numbers\n",
        "num_cols = df.select_dtypes(include=\"number\").columns\n",
        "print(\"Numeric columns:\", list(num_cols))\n",
        "\n",
        "# Show a basic summary: count, mean, standard deviation, min, quartiles, max\n",
        "df[num_cols].describe().T\n"
      ],
      "metadata": {
        "id": "G7U0cwGArjKX"
      },
      "execution_count": null,
      "outputs": []
    },
    {
      "cell_type": "markdown",
      "source": [
        "In a Text Cell, answer:\n",
        "\n",
        "Pick 2 numeric columns. Write their mean, median, and standard deviation (std).\n",
        "\n",
        "If mean ≠ median, what might that tell you (skew or outliers)?\n",
        "\n",
        "Which variable has the largest spread (highest std)? Why could that matter for decisions?"
      ],
      "metadata": {
        "id": "N2JQ8RvYrlYR"
      }
    },
    {
      "cell_type": "markdown",
      "source": [
        "## PART G — Descriptive Statistics (Text / Categories)"
      ],
      "metadata": {
        "id": "GdsbU9mJrm7U"
      }
    },
    {
      "cell_type": "code",
      "source": [
        "# Find which columns contain categories or text\n",
        "cat_cols = df.select_dtypes(include=[\"category\", \"object\", \"bool\"]).columns\n",
        "print(\"Categorical columns:\", list(cat_cols))\n",
        "\n",
        "# Show counts and percentages for up to 5 category columns\n",
        "for col in cat_cols[:5]:\n",
        "    print(f\"\\n--- {col} ---\")\n",
        "    print(\"Counts:\\n\", df[col].value_counts(dropna=False).head(10))\n",
        "    print(\"\\nPercentages (%):\\n\", (df[col].value_counts(normalize=True, dropna=False).head(10)*100).round(1))\n"
      ],
      "metadata": {
        "id": "2AT33x0Prp7N"
      },
      "execution_count": null,
      "outputs": []
    },
    {
      "cell_type": "markdown",
      "source": [
        "In a Text Cell:\n",
        "\n",
        "Which 3 categories are most common overall?\n",
        "\n",
        "Do you see any large imbalances (e.g., one category much bigger than others)?"
      ],
      "metadata": {
        "id": "8pl9eZd3rtNH"
      }
    },
    {
      "cell_type": "markdown",
      "source": [
        "## PART H — Visualizations\n",
        "\n",
        "Let’s make one histogram (for numbers) and one bar chart (for categories)."
      ],
      "metadata": {
        "id": "9CCrqsshrx4-"
      }
    },
    {
      "cell_type": "code",
      "source": [
        "# Histogram for one numeric variable\n",
        "numeric_example = df.select_dtypes(include=\"number\").columns[0]  # pick the first numeric column\n",
        "plt.hist(df[numeric_example].dropna(), bins=20)\n",
        "plt.title(f\"Histogram of {numeric_example}\")\n",
        "plt.xlabel(numeric_example)\n",
        "plt.ylabel(\"Count\")\n",
        "plt.show()\n",
        "\n",
        "# Bar chart for one categorical variable\n",
        "categorical_example = df.select_dtypes(include=[\"category\", \"object\", \"bool\"]).columns[0]\n",
        "top_counts = df[categorical_example].value_counts().head(10)\n",
        "plt.bar(top_counts.index.astype(str), top_counts.values)\n",
        "plt.title(f\"Top 10 {categorical_example} Categories\")\n",
        "plt.xlabel(categorical_example)\n",
        "plt.ylabel(\"Count\")\n",
        "plt.xticks(rotation=45, ha=\"right\")\n",
        "plt.show()\n"
      ],
      "metadata": {
        "id": "MgVrrCXQrsH0"
      },
      "execution_count": null,
      "outputs": []
    },
    {
      "cell_type": "markdown",
      "source": [
        "Explanation:\n",
        "\n",
        "A histogram shows how numeric values are distributed.\n",
        "\n",
        "A bar chart shows which categories appear most often."
      ],
      "metadata": {
        "id": "VB3WYAf1r59v"
      }
    },
    {
      "cell_type": "markdown",
      "source": [
        "## PART I — Think Like a Manager\n",
        "\n",
        "In a Text cell, answer 5–6 of these in plain language:\n",
        "\n",
        "For two numeric variables, what are the mean, median, and spread?\n",
        "\n",
        "Which variable is most variable (has the highest SD)?\n",
        "\n",
        "For one categorical variable, what are the top 3 categories? Any surprises?\n",
        "\n",
        "(Optional) Compare one numeric variable by category:"
      ],
      "metadata": {
        "id": "aWq_cSNKr_n-"
      }
    },
    {
      "cell_type": "code",
      "source": [
        "df.groupby(categorical_example)[numeric_example].mean().sort_values(ascending=False).head(10)\n"
      ],
      "metadata": {
        "id": "TN5zEsiksCMa"
      },
      "execution_count": null,
      "outputs": []
    },
    {
      "cell_type": "markdown",
      "source": [
        "What differences might matter in practice?\n",
        "\n",
        "What are your top 2–3 business insights you’d report to a manager?"
      ],
      "metadata": {
        "id": "SuoepBLhsEKi"
      }
    },
    {
      "cell_type": "markdown",
      "source": [
        "##PART J — (Optional) Use the BUSI650 Helper GPT\n",
        "\n",
        "You may ask the GPT helper for:\n",
        "\n",
        "Dataset ideas\n",
        "\n",
        "Help loading or cleaning data\n",
        "\n",
        "Guidance on interpreting charts\n",
        "\n",
        "If you use GPT, add an Appendix at the end that includes:\n",
        "\n",
        "Your exact prompt(s)\n",
        "\n",
        "What part of the response helped you\n",
        "\n",
        "What you changed or decided on your own\n",
        "\n",
        "✅ Do not copy full AI text — just summarize what you used."
      ],
      "metadata": {
        "id": "fzRynv5CsIrV"
      }
    },
    {
      "cell_type": "markdown",
      "source": [
        "## PART K — Final Checks & Submission\n",
        "\n",
        "In Colab, click Runtime → Restart and run all to make sure all code works.\n",
        "\n",
        "Fix any errors if they appear.\n",
        "\n",
        "Go to File → Download → Download .ipynb\n",
        "\n",
        "Upload your .ipynb file to the course shell.\n",
        "\n",
        "📁 Filename format:"
      ],
      "metadata": {
        "id": "PzyZneJWsMlV"
      }
    },
    {
      "cell_type": "code",
      "source": [
        "Lastname_Firstname_DescriptiveAnalysis.ipynb\n"
      ],
      "metadata": {
        "id": "Zue5kQDSsPl2"
      },
      "execution_count": null,
      "outputs": []
    },
    {
      "cell_type": "markdown",
      "source": [
        "### ⚠️ Important Note About Datasets\n",
        "\n",
        "If you use a dataset stored in your own Google Drive (e.g., you uploaded a CSV and read it using a path like /content/drive/MyDrive/...),\n",
        "you must also attach that dataset file when you submit your assignment.\n",
        "\n",
        "Please follow one of these submission options:\n",
        "\n",
        "Preferred (public dataset):\n",
        "Use a public URL (like a CSV link from GitHub, Kaggle, or a government data portal) so your notebook loads automatically — no need to attach files.\n",
        "\n",
        "Example:\n",
        "\n",
        "url = \"https://raw.githubusercontent.com/datasets/inflation/master/data/cpi.csv\"\n",
        "df = pd.read_csv(url)\n",
        "\n",
        "\n",
        "If using a private or uploaded dataset:\n",
        "\n",
        "Download the CSV from your Drive (right-click → Download).\n",
        "\n",
        "Attach that same .csv file alongside your .ipynb file when you submit.\n",
        "\n",
        "Make sure the filename in your code matches the attached dataset file.\n",
        "Example:\n",
        "\n",
        "df = pd.read_csv(\"mydata.csv\")\n",
        "\n",
        "\n",
        "Do not use Drive-only paths in your final submission:\n",
        "\n",
        "# ❌ This will not work when the instructor opens your notebook\n",
        "df = pd.read_csv(\"/content/drive/MyDrive/mydata.csv\")\n",
        "\n",
        "📦 What to submit\n",
        "\n",
        "You should upload:\n",
        "\n",
        "✅ Your Colab notebook: Lastname_Firstname_DescriptiveAnalysis.ipynb\n",
        "\n",
        "✅ Your dataset file (if it’s not publicly accessible online)"
      ],
      "metadata": {
        "id": "6h9Lgr-2zVMo"
      }
    },
    {
      "cell_type": "markdown",
      "source": [
        "\n",
        "\n",
        "### You Should Have:\n",
        "\n",
        "A clear header with your name, ID, and dataset info\n",
        "\n",
        "All code and answers in one notebook\n",
        "\n",
        "Numeric and categorical summaries\n",
        "\n",
        "One histogram + one bar chart\n",
        "\n",
        "Plain-English insights for decision-making\n",
        "\n",
        "Appendix (if GPT was used)"
      ],
      "metadata": {
        "id": "GWpxu3nRsYf3"
      }
    },
    {
      "cell_type": "code",
      "source": [],
      "metadata": {
        "id": "V2vhSyr_zNJ5"
      },
      "execution_count": null,
      "outputs": []
    }
  ]
}