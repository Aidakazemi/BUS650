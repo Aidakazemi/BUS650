{
  "cells": [
    {
      "cell_type": "markdown",
      "metadata": {
        "id": "view-in-github",
        "colab_type": "text"
      },
      "source": [
        "<a href=\"https://colab.research.google.com/github/Aidakazemi/BUS650/blob/Assignment/BUSI650_Predictive_Decision_Assignment.ipynb\" target=\"_parent\"><img src=\"https://colab.research.google.com/assets/colab-badge.svg\" alt=\"Open In Colab\"/></a>"
      ]
    },
    {
      "cell_type": "markdown",
      "metadata": {
        "id": "RiGl9CLRluc4"
      },
      "source": [
        "# 📌 BUSI650 — Predictive & Decision-Making Analysis Assignment (Week 6)\n",
        "**Weight:** 20% of final grade  \n",
        "**Environment:** Google Colab (recommended)  \n",
        "\n",
        "## 🎯 Assignment Purpose\n",
        "In this assignment you will:\n",
        "1. **Find a business dataset** (using the class Custom GPT helper) in a field you care about (Marketing, Finance, HR, Law/Policy, Operations, etc.).\n",
        "2. Perform **descriptive analysis** and **hypothesis testing** to answer a concrete research question.\n",
        "3. Build a simple **predictive model (linear regression)** to support a **decision recommendation**.\n",
        "4. Communicate your findings in **plain business language**.\n",
        "\n",
        "👉 **Rubric:** See the course shell (Week Overview → Syllabus → Rubric section).\n",
        "\n",
        "---\n",
        "## 🧭 What You Submit\n",
        "- Your final **`.ipynb` notebook** (this file with your completed analysis and commentary).\n",
        "- **Your dataset file or a permanent link with access** (e.g., CSV attached/uploaded, Drive shared link with \"Anyone with the link\" access, or Kaggle URL + exact version).  \n",
        "  - Include a **Data Provenance** note (source, link, date accessed).\n",
        "\n",
        "---\n",
        "## ✅ Academic Integrity\n",
        "- You may use the **Custom GPT helper** to **find** a dataset and for **guided steps**.\n",
        "- You **must run your own code** and **interpret your own outputs**. Do not create new code but use only the given codes.\n",
        "- Questions in this assignment **cannot be answered** without running your code on your chosen data.\n"
      ],
      "id": "RiGl9CLRluc4"
    },
    {
      "cell_type": "markdown",
      "metadata": {
        "id": "gCzmoVdyluc8"
      },
      "source": [
        "---\n",
        "## 🧑‍💻 Step 0 — Identify Yourself\n",
        "Rename this file in Colab: **File → Save a copy in Drive** → `Lastname_Firstname_PredictiveDecision.ipynb`\n",
        "\n",
        "Fill in your info below and run the cell."
      ],
      "id": "gCzmoVdyluc8"
    },
    {
      "cell_type": "code",
      "metadata": {
        "id": "JW3O2MJJluc8"
      },
      "execution_count": null,
      "outputs": [],
      "source": [
        "STUDENT_NAME = \"Your Name\"\n",
        "STUDENT_ID = \"Your Student ID\"\n",
        "print(f\"Student: {STUDENT_NAME} | ID: {STUDENT_ID}\")"
      ],
      "id": "JW3O2MJJluc8"
    },
    {
      "cell_type": "markdown",
      "metadata": {
        "id": "FwUKfSzZluc9"
      },
      "source": [
        "---\n",
        "## 🔎 Step 1 — Find a Dataset (with the Custom GPT helper)\n",
        "Choose a domain you like (Marketing, Finance, HR, Law/Policy, Ops). Use the **Custom GPT** ([BUSI650 Helper GPT — Dataset Finder & Descriptive Analysis](https://chatgpt.com/g/g-68e750d6c8a88191bcc36422f4d40ce2-busi650-dataset-finder-descriptive-analysis)) to locate a **clean, tabular dataset** with:\n",
        "- **Rows ≥ 200** (preferred), columns ≥ 5  \n",
        "- Includes **at least one numeric outcome** you could predict (e.g., Sales, Salary, Satisfaction, Price) and **2–5 numeric predictors** (e.g., AdSpend, Tenure, Rating, Age)  \n",
        "- Data is **non-sensitive** and sharable for academic use\n",
        "\n",
        "### 💬 Suggested Prompts to use in the Custom GPT\n",
        "- *“Find a clean public **marketing dataset** (CSV) with monthly sales and advertising spend that I can load in Colab. Include a direct CSV link if possible.”*\n",
        "- *“Suggest an **HR dataset** with employee age, tenure, satisfaction, and attrition status. Include data dictionary and a CSV link or Kaggle page.”*\n",
        "- *“Point me to a **finance dataset** for stock prices with features I could use to predict next-day return (or volume). Provide source and direct CSV link if available.”*\n",
        "- *“Suggest a **law/policy** dataset where we could examine whether a policy change affects an outcome, with at least one continuous variable to predict.”*\n",
        "\n",
        "### 📌 Data Provenance (fill in after you choose)\n",
        "- **Source / URL:**  \n",
        "- **Date accessed:**  \n",
        "- **Short description of variables:**  \n"
      ],
      "id": "FwUKfSzZluc9"
    },
    {
      "cell_type": "markdown",
      "metadata": {
        "id": "p-sz-4SIluc9"
      },
      "source": [
        "---\n",
        "## 📥 Step 2 — Load Your Data\n",
        "Choose **one** of the methods below. Run the cell that matches your situation.\n",
        "\n",
        "### Option A — Upload a local CSV (easy)\n",
        "Use the upload button to select your CSV file.\n"
      ],
      "id": "p-sz-4SIluc9"
    },
    {
      "cell_type": "code",
      "metadata": {
        "id": "vaXmFpYOluc-"
      },
      "execution_count": null,
      "outputs": [],
      "source": [
        "import pandas as pd\n",
        "from google.colab import files\n",
        "\n",
        "print(\"🔼 Choose your CSV file…\")\n",
        "uploaded = files.upload()  # pick your CSV\n",
        "csv_name = list(uploaded.keys())[0]\n",
        "df = pd.read_csv(csv_name)\n",
        "print(\"Loaded:\", csv_name)\n",
        "df.head()"
      ],
      "id": "vaXmFpYOluc-"
    },
    {
      "cell_type": "markdown",
      "metadata": {
        "id": "gcUkDojNluc-"
      },
      "source": [
        "### Option B — Load directly from a **URL** (if you have a direct CSV link)\n",
        "Paste the URL and run."
      ],
      "id": "gcUkDojNluc-"
    },
    {
      "cell_type": "code",
      "metadata": {
        "id": "KCHGArREluc-"
      },
      "execution_count": null,
      "outputs": [],
      "source": [
        "import pandas as pd\n",
        "CSV_URL = \"https://example.com/path/to/your.csv\"  # <-- paste\n",
        "try:\n",
        "    df = pd.read_csv(CSV_URL)\n",
        "    print(\"Loaded from URL:\", CSV_URL)\n",
        "    display(df.head())\n",
        "except Exception as e:\n",
        "    print(\"URL load failed — check the link or use Option A.\\nError:\", e)"
      ],
      "id": "KCHGArREluc-"
    },
    {
      "cell_type": "markdown",
      "metadata": {
        "id": "3csEdXNKluc_"
      },
      "source": [
        "### Option C — Kaggle (advanced, optional)\n",
        "1) Go to **Kaggle → Account → Create New API Token** → it downloads `kaggle.json`.  \n",
        "2) Upload `kaggle.json` here.  \n",
        "3) Replace the dataset path (e.g., `zynicide/wine-reviews`) and filename.\n"
      ],
      "id": "3csEdXNKluc_"
    },
    {
      "cell_type": "code",
      "metadata": {
        "id": "4jZJXUfVluc_"
      },
      "execution_count": null,
      "outputs": [],
      "source": [
        "!pip -q install kaggle\n",
        "from google.colab import files\n",
        "import os, pandas as pd\n",
        "\n",
        "print(\"Upload kaggle.json from your Kaggle account…\")\n",
        "files.upload()\n",
        "os.makedirs('/root/.kaggle', exist_ok=True)\n",
        "os.replace('kaggle.json','/root/.kaggle/kaggle.json')\n",
        "os.chmod('/root/.kaggle/kaggle.json', 0o600)\n",
        "\n",
        "KAGGLE_DATASET = \"zynicide/wine-reviews\"  # <-- change to your dataset\n",
        "!kaggle datasets download -d $KAGGLE_DATASET -p /content --unzip\n",
        "\n",
        "# Change filename below to the CSV in the dataset\n",
        "CSV_FILENAME = \"/content/winemag-data-130k-v2.csv\"  # <-- change\n",
        "df = pd.read_csv(CSV_FILENAME)\n",
        "print(\"Loaded Kaggle dataset:\", CSV_FILENAME)\n",
        "df.head()"
      ],
      "id": "4jZJXUfVluc_"
    },
    {
      "cell_type": "markdown",
      "metadata": {
        "id": "H9UeRplSluc_"
      },
      "source": [
        "---\n",
        "## 🧹 Step 3 — Understand & Prepare Data\n",
        "Run the checks below and make minimal cleaning choices."
      ],
      "id": "H9UeRplSluc_"
    },
    {
      "cell_type": "code",
      "metadata": {
        "id": "lJscqORVludA"
      },
      "execution_count": null,
      "outputs": [],
      "source": [
        "print(\"Shape (rows, cols):\", df.shape)\n",
        "print(\"\\nColumns:\\n\", list(df.columns))\n",
        "print(\"\\nDtypes:\\n\", df.dtypes)\n",
        "print(\"\\nMissing values (per column):\\n\", df.isna().sum())"
      ],
      "id": "lJscqORVludA"
    },
    {
      "cell_type": "markdown",
      "metadata": {
        "id": "EpT3nzwHludA"
      },
      "source": [
        "### Choose Your Variables\n",
        "Pick **one numeric outcome (Y)** to predict and **2–5 numeric predictors (X)** that could explain it.\n",
        "\n",
        "- Example Marketing: `Y = Sales`, `X = [AdSpend, Price, StoreVisits]`\n",
        "- Example HR: `Y = Salary`, `X = [YearsExperience, PerformanceScore]`\n",
        "\n",
        "Fill in your choices below and run."
      ],
      "id": "EpT3nzwHludA"
    },
    {
      "cell_type": "code",
      "metadata": {
        "id": "ccX-9VAdludA"
      },
      "execution_count": null,
      "outputs": [],
      "source": [
        "Y_COL = \"<your_numeric_outcome>\"      # e.g., 'Sales'\n",
        "X_COLS = [\"<x1>\", \"<x2>\"]            # e.g., ['AdSpend','Price']\n",
        "\n",
        "assert Y_COL in df.columns, \"Y_COL not found in dataframe!\"\n",
        "for c in X_COLS:\n",
        "    assert c in df.columns, f\"Predictor {c} not in dataframe!\"\n",
        "\n",
        "data = df[X_COLS + [Y_COL]].dropna()\n",
        "print(\"Data used (first 5 rows):\")\n",
        "data.head()"
      ],
      "id": "ccX-9VAdludA"
    },
    {
      "cell_type": "markdown",
      "metadata": {
        "id": "B3bkv2DLludA"
      },
      "source": [
        "---\n",
        "## 📊 Step 4 — Descriptive Analysis\n",
        "Compute basic summaries to understand your variables."
      ],
      "id": "B3bkv2DLludA"
    },
    {
      "cell_type": "code",
      "metadata": {
        "id": "ChxLV9pSludA"
      },
      "execution_count": null,
      "outputs": [],
      "source": [
        "desc = data.describe().T\n",
        "desc"
      ],
      "id": "ChxLV9pSludA"
    },
    {
      "cell_type": "markdown",
      "metadata": {
        "id": "l9iRL_n-ludA"
      },
      "source": [
        "### Quick Visuals (optional but helpful)\n",
        "- Histogram of the outcome\n",
        "- Scatterplots of Y vs each X"
      ],
      "id": "l9iRL_n-ludA"
    },
    {
      "cell_type": "code",
      "metadata": {
        "id": "y1cFZT8EludB"
      },
      "execution_count": null,
      "outputs": [],
      "source": [
        "import matplotlib.pyplot as plt\n",
        "import numpy as np\n",
        "\n",
        "plt.figure()\n",
        "plt.hist(data[Y_COL], bins=20)\n",
        "plt.title(f\"Distribution of {Y_COL}\")\n",
        "plt.xlabel(Y_COL)\n",
        "plt.ylabel(\"Frequency\")\n",
        "plt.show()\n",
        "\n",
        "for col in X_COLS:\n",
        "    plt.figure()\n",
        "    plt.scatter(data[col], data[Y_COL])\n",
        "    plt.xlabel(col)\n",
        "    plt.ylabel(Y_COL)\n",
        "    plt.title(f\"{Y_COL} vs {col}\")\n",
        "    plt.show()"
      ],
      "id": "y1cFZT8EludB"
    },
    {
      "cell_type": "markdown",
      "metadata": {
        "id": "vR8PjUh1ludB"
      },
      "source": [
        "---\n",
        "## 🧪 Step 5 — Hypothesis Testing (choose one)\n",
        "Pick **one** hypothesis test suitable for your dataset and state your hypotheses:\n",
        "\n",
        "### Option A — One-sample t-test (mean of Y vs a benchmark)\n",
        "- Example: *Is average monthly sales **> 10,000**?*\n",
        "\n",
        "### Option B — Two-sample t-test (mean of Y across two groups)\n",
        "- Requires a **binary group column** (e.g., Region A vs B). Create one if needed.\n",
        "- Example: *Is **average salary** higher for **department A** than **department B**?*\n",
        "\n",
        "👉 Write your $H_0$ and $H_1$ clearly in a **Text** cell below. Then run the matching code."
      ],
      "id": "vR8PjUh1ludB"
    },
    {
      "cell_type": "markdown",
      "metadata": {
        "id": "-Kv_puauludB"
      },
      "source": [
        "### ✅ Option A — One-sample t-test"
      ],
      "id": "-Kv_puauludB"
    },
    {
      "cell_type": "code",
      "metadata": {
        "id": "RbfWqkjHludB"
      },
      "execution_count": null,
      "outputs": [],
      "source": [
        "from scipy import stats\n",
        "import numpy as np\n",
        "\n",
        "BENCHMARK = 0.0  # <-- set your benchmark, e.g., 10000\n",
        "alternative = 'two-sided'  # 'greater', 'less', or 'two-sided'\n",
        "\n",
        "y = data[Y_COL].astype(float).values\n",
        "t_stat, p_val = stats.ttest_1samp(y, popmean=BENCHMARK, alternative=alternative)\n",
        "print(f\"t = {t_stat:.3f}, p = {p_val:.4f}, n = {len(y)}\")"
      ],
      "id": "RbfWqkjHludB"
    },
    {
      "cell_type": "markdown",
      "metadata": {
        "id": "HORe7QWxludB"
      },
      "source": [
        "### ✅ Option B — Two-sample t-test (independent)\n",
        "Provide a **binary group column** (e.g., `GroupCol` with values A/B or 0/1)."
      ],
      "id": "HORe7QWxludB"
    },
    {
      "cell_type": "code",
      "metadata": {
        "id": "tnByoRn2ludB"
      },
      "execution_count": null,
      "outputs": [],
      "source": [
        "from scipy import stats\n",
        "\n",
        "GROUP_COL = \"<your_binary_group_col>\"  # e.g., 'RegionAB' with values 'A'/'B'\n",
        "if GROUP_COL in data.columns:\n",
        "    gvals = data[GROUP_COL].dropna().unique()\n",
        "    assert len(gvals) == 2, \"Group column must have exactly 2 unique values!\"\n",
        "    g1, g2 = gvals[0], gvals[1]\n",
        "    y1 = data.loc[data[GROUP_COL] == g1, Y_COL].astype(float)\n",
        "    y2 = data.loc[data[GROUP_COL] == g2, Y_COL].astype(float)\n",
        "    t_stat, p_val = stats.ttest_ind(y1, y2, equal_var=True, alternative='two-sided')\n",
        "    print(f\"Groups: {g1} (n={len(y1)}), {g2} (n={len(y2)})\")\n",
        "    print(f\"t = {t_stat:.3f}, p = {p_val:.4f}\")\n",
        "else:\n",
        "    print(\"Define GROUP_COL and ensure it exists in data with exactly 2 unique values.\")"
      ],
      "id": "tnByoRn2ludB"
    },
    {
      "cell_type": "markdown",
      "metadata": {
        "id": "j5v1N0qXludB"
      },
      "source": [
        "---\n",
        "## 🤖 Step 6 — Predictive Modeling (Linear Regression)\n",
        "We will build a simple regression to predict **Y** from your selected **X** variables."
      ],
      "id": "j5v1N0qXludB"
    },
    {
      "cell_type": "code",
      "metadata": {
        "id": "Gs7N3CvpludB"
      },
      "execution_count": null,
      "outputs": [],
      "source": [
        "from sklearn.model_selection import train_test_split\n",
        "from sklearn.linear_model import LinearRegression\n",
        "from sklearn.metrics import r2_score, mean_absolute_error, mean_squared_error\n",
        "import numpy as np\n",
        "\n",
        "X = data[X_COLS].astype(float).values\n",
        "y = data[Y_COL].astype(float).values\n",
        "\n",
        "X_train, X_test, y_train, y_test = train_test_split(X, y, test_size=0.25, random_state=42)\n",
        "model = LinearRegression()\n",
        "model.fit(X_train, y_train)\n",
        "\n",
        "y_pred = model.predict(X_test)\n",
        "r2 = r2_score(y_test, y_pred)\n",
        "mae = mean_absolute_error(y_test, y_pred)\n",
        "rmse = mean_squared_error(y_test, y_pred, squared=False)\n",
        "\n",
        "print(\"Model Coefficients (b for each X):\")\n",
        "for name, coef in zip(X_COLS, model.coef_):\n",
        "    print(f\"  {name}: {coef:.4f}\")\n",
        "print(f\"Intercept (a): {model.intercept_:.4f}\")\n",
        "print(\"\\nTest Performance:\")\n",
        "print(f\"  R^2  : {r2:.3f}\")\n",
        "print(f\"  MAE  : {mae:.3f}\")\n",
        "print(f\"  RMSE : {rmse:.3f}\")"
      ],
      "id": "Gs7N3CvpludB"
    },
    {
      "cell_type": "markdown",
      "metadata": {
        "id": "fdqULOMHludC"
      },
      "source": [
        "### Visualize (one predictor at a time)\n",
        "If you only selected **one X**, this draws the regression line."
      ],
      "id": "fdqULOMHludC"
    },
    {
      "cell_type": "code",
      "metadata": {
        "id": "iAiPWZy5ludC"
      },
      "execution_count": null,
      "outputs": [],
      "source": [
        "import matplotlib.pyplot as plt\n",
        "import numpy as np\n",
        "from sklearn.linear_model import LinearRegression\n",
        "\n",
        "if len(X_COLS) == 1:\n",
        "    xname = X_COLS[0]\n",
        "    xvals = data[xname].astype(float).values.reshape(-1,1)\n",
        "    yvals = data[Y_COL].astype(float).values\n",
        "    m = LinearRegression().fit(xvals, yvals)\n",
        "    xgrid = np.linspace(xvals.min(), xvals.max(), 100).reshape(-1,1)\n",
        "    yhat  = m.predict(xgrid)\n",
        "    plt.figure()\n",
        "    plt.scatter(xvals, yvals)\n",
        "    plt.plot(xgrid, yhat)\n",
        "    plt.xlabel(xname)\n",
        "    plt.ylabel(Y_COL)\n",
        "    plt.title(f\"Regression of {Y_COL} on {xname}\")\n",
        "    plt.show()\n",
        "else:\n",
        "    print(\"(Visualization: set only one predictor in X_COLS to see the fitted line plot.)\")"
      ],
      "id": "iAiPWZy5ludC"
    },
    {
      "cell_type": "markdown",
      "metadata": {
        "id": "-4l5N7GlludC"
      },
      "source": [
        "---\n",
        "## 🧠 Step 7 — Decision Questions (Answer in Markdown)\n",
        "Answer **all** questions below using your outputs (they cannot be answered without running your code):\n",
        "\n",
        "1) **Hypothesis Test Result:** What was your $H_0$ and $H_1$? Report your **t-statistic**, **p-value**, and the **plain-language conclusion** at $\\alpha=0.05$.\n",
        "2) **Model Fit:** Interpret your **R², MAE, RMSE**. Is the model useful for decision-making? Why or why not?\n",
        "3) **Feature Effects:** Pick the most important predictor from your model (largest |coefficient|). Explain what a **one-unit increase** in that variable means for the outcome **in business terms**.\n",
        "4) **What-if Scenario:** If you change one predictor by +10% (e.g., increase AdSpend), what is the **predicted change** in Y (using the fitted model)? Show the calculation.\n",
        "5) **Risk & Limitations:** Identify one potential bias or limitation in your data or model (e.g., omitted variables, nonlinearity, small sample). How could it affect decisions?\n",
        "6) **Decision Recommendation:** Based on your analysis, what should the manager do **next month/quarter**? Be specific (e.g., adjust price by X, raise budget by Y, prioritize region Z) and justify with numbers.\n",
        "\n",
        "> Write your answers below this cell in **clear, concise business language**. Use bullet points and short paragraphs."
      ],
      "id": "-4l5N7GlludC"
    },
    {
      "cell_type": "markdown",
      "source": [
        "### *Write your responses here"
      ],
      "metadata": {
        "id": "oFXJTdJDnsyX"
      },
      "id": "oFXJTdJDnsyX"
    },
    {
      "cell_type": "markdown",
      "metadata": {
        "id": "uDSTN2caludC"
      },
      "source": [
        "---\n",
        "## 🎨 Step 8 — Creative Element (pick one)\n",
        "Add at least **one** of the following:\n",
        "- **Segmentation:** Split data into two meaningful groups (e.g., Region A/B, Product Type) and **run regression separately**; compare coefficients.\n",
        "- **Feature Engineering:** Create a new variable that could improve predictions (e.g., `RevenuePerVisit = Revenue / Visits`).\n",
        "- **Validation:** Perform **k-fold cross-validation** (e.g., 5-fold) and report average R²/MAE.\n",
        "- **Visualization:** Add one clean visualization that helps a manager understand the recommendation at a glance.\n"
      ],
      "id": "uDSTN2caludC"
    },
    {
      "cell_type": "markdown",
      "metadata": {
        "id": "DnQj1hwnludC"
      },
      "source": [
        "---\n",
        "## 📄 Step 9 — Decision Memo (≤ 200 words)\n",
        "Write a short memo to a non-technical manager:\n",
        "- **Goal**: what you set out to predict or test\n",
        "- **Key result**: hypothesis test conclusion and model takeaway\n",
        "- **Recommendation**: the decision and quantitative justification\n",
        "- **Risk**: one limitation and how you’d address it next\n",
        "\n",
        "Type your memo below this cell."
      ],
      "id": "DnQj1hwnludC"
    },
    {
      "cell_type": "markdown",
      "metadata": {
        "id": "-JtszIr4ludC"
      },
      "source": [
        "---\n",
        "## 📦 Step 10 — Save & Submit\n",
        "- Go to **File → Download → Download .ipynb** and upload to the assignment page.\n",
        "- If you used a local file, also **attach your CSV**. If you used an online dataset, ensure the link is accessible.\n",
        "- Include the **Data Provenance** note with link and access info.\n",
        "\n",
        "*(Optional) Save a copy to Google Drive using the code below.*"
      ],
      "id": "-JtszIr4ludC"
    },
    {
      "cell_type": "code",
      "metadata": {
        "id": "j_cu7Sy2ludC"
      },
      "execution_count": null,
      "outputs": [],
      "source": [
        "from google.colab import drive\n",
        "from datetime import datetime\n",
        "drive.mount('/content/drive')\n",
        "ts = datetime.now().strftime('%Y%m%d_%H%M')\n",
        "out = f\"/content/drive/MyDrive/{STUDENT_NAME.replace(' ','_')}_PredictiveDecision_{ts}.csv\"\n",
        "try:\n",
        "    data.to_csv(out, index=False)\n",
        "    print(\"Saved a copy of your working dataset to:\", out)\n",
        "except Exception as e:\n",
        "    print(\"(Optional save) Could not save to Drive:\", e)"
      ],
      "id": "j_cu7Sy2ludC"
    }
  ],
  "metadata": {
    "colab": {
      "provenance": [],
      "include_colab_link": true
    },
    "kernelspec": {
      "display_name": "Python 3",
      "language": "python",
      "name": "python3"
    },
    "language_info": {
      "name": "python",
      "version": "3.x"
    }
  },
  "nbformat": 4,
  "nbformat_minor": 5
}